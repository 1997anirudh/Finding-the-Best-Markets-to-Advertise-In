{
 "cells": [
  {
   "cell_type": "markdown",
   "metadata": {},
   "source": [
    "# Finding the Best Markets to Advertise In\n"
   ]
  },
  {
   "cell_type": "code",
   "execution_count": 1,
   "metadata": {
    "collapsed": false
   },
   "outputs": [
    {
     "name": "stdout",
     "output_type": "stream",
     "text": [
      "<class 'pandas.core.frame.DataFrame'>\n",
      "RangeIndex: 18175 entries, 0 to 18174\n",
      "Columns: 136 entries, Age to YouTubeTheNewBoston\n",
      "dtypes: float64(105), object(31)\n",
      "memory usage: 18.9+ MB\n"
     ]
    },
    {
     "name": "stderr",
     "output_type": "stream",
     "text": [
      "/dataquest/system/env/python3/lib/python3.4/site-packages/IPython/core/interactiveshell.py:2723: DtypeWarning: Columns (17,62) have mixed types. Specify dtype option on import or set low_memory=False.\n",
      "  interactivity=interactivity, compiler=compiler, result=result)\n"
     ]
    }
   ],
   "source": [
    "import pandas as pd\n",
    "from numpy import std,mean\n",
    "market_2017 = pd.read_csv(\"2017-fCC-New-Coders-Survey-Data.csv\", encoding = \"UTF-8\")\n",
    "market_2017.info()"
   ]
  },
  {
   "cell_type": "code",
   "execution_count": 2,
   "metadata": {
    "collapsed": false
   },
   "outputs": [
    {
     "data": {
      "text/html": [
       "<div>\n",
       "<style scoped>\n",
       "    .dataframe tbody tr th:only-of-type {\n",
       "        vertical-align: middle;\n",
       "    }\n",
       "\n",
       "    .dataframe tbody tr th {\n",
       "        vertical-align: top;\n",
       "    }\n",
       "\n",
       "    .dataframe thead th {\n",
       "        text-align: right;\n",
       "    }\n",
       "</style>\n",
       "<table border=\"1\" class=\"dataframe\">\n",
       "  <thead>\n",
       "    <tr style=\"text-align: right;\">\n",
       "      <th></th>\n",
       "      <th>Age</th>\n",
       "      <th>AttendedBootcamp</th>\n",
       "      <th>BootcampFinish</th>\n",
       "      <th>BootcampLoanYesNo</th>\n",
       "      <th>BootcampName</th>\n",
       "      <th>BootcampRecommend</th>\n",
       "      <th>ChildrenNumber</th>\n",
       "      <th>CityPopulation</th>\n",
       "      <th>CodeEventConferences</th>\n",
       "      <th>CodeEventDjangoGirls</th>\n",
       "      <th>...</th>\n",
       "      <th>YouTubeFCC</th>\n",
       "      <th>YouTubeFunFunFunction</th>\n",
       "      <th>YouTubeGoogleDev</th>\n",
       "      <th>YouTubeLearnCode</th>\n",
       "      <th>YouTubeLevelUpTuts</th>\n",
       "      <th>YouTubeMIT</th>\n",
       "      <th>YouTubeMozillaHacks</th>\n",
       "      <th>YouTubeOther</th>\n",
       "      <th>YouTubeSimplilearn</th>\n",
       "      <th>YouTubeTheNewBoston</th>\n",
       "    </tr>\n",
       "  </thead>\n",
       "  <tbody>\n",
       "    <tr>\n",
       "      <th>0</th>\n",
       "      <td>27.0</td>\n",
       "      <td>0.0</td>\n",
       "      <td>NaN</td>\n",
       "      <td>NaN</td>\n",
       "      <td>NaN</td>\n",
       "      <td>NaN</td>\n",
       "      <td>NaN</td>\n",
       "      <td>more than 1 million</td>\n",
       "      <td>NaN</td>\n",
       "      <td>NaN</td>\n",
       "      <td>...</td>\n",
       "      <td>NaN</td>\n",
       "      <td>NaN</td>\n",
       "      <td>NaN</td>\n",
       "      <td>NaN</td>\n",
       "      <td>NaN</td>\n",
       "      <td>NaN</td>\n",
       "      <td>NaN</td>\n",
       "      <td>NaN</td>\n",
       "      <td>NaN</td>\n",
       "      <td>NaN</td>\n",
       "    </tr>\n",
       "    <tr>\n",
       "      <th>1</th>\n",
       "      <td>34.0</td>\n",
       "      <td>0.0</td>\n",
       "      <td>NaN</td>\n",
       "      <td>NaN</td>\n",
       "      <td>NaN</td>\n",
       "      <td>NaN</td>\n",
       "      <td>NaN</td>\n",
       "      <td>less than 100,000</td>\n",
       "      <td>NaN</td>\n",
       "      <td>NaN</td>\n",
       "      <td>...</td>\n",
       "      <td>1.0</td>\n",
       "      <td>NaN</td>\n",
       "      <td>NaN</td>\n",
       "      <td>NaN</td>\n",
       "      <td>NaN</td>\n",
       "      <td>NaN</td>\n",
       "      <td>NaN</td>\n",
       "      <td>NaN</td>\n",
       "      <td>NaN</td>\n",
       "      <td>NaN</td>\n",
       "    </tr>\n",
       "    <tr>\n",
       "      <th>2</th>\n",
       "      <td>21.0</td>\n",
       "      <td>0.0</td>\n",
       "      <td>NaN</td>\n",
       "      <td>NaN</td>\n",
       "      <td>NaN</td>\n",
       "      <td>NaN</td>\n",
       "      <td>NaN</td>\n",
       "      <td>more than 1 million</td>\n",
       "      <td>NaN</td>\n",
       "      <td>NaN</td>\n",
       "      <td>...</td>\n",
       "      <td>NaN</td>\n",
       "      <td>NaN</td>\n",
       "      <td>NaN</td>\n",
       "      <td>1.0</td>\n",
       "      <td>1.0</td>\n",
       "      <td>NaN</td>\n",
       "      <td>NaN</td>\n",
       "      <td>NaN</td>\n",
       "      <td>NaN</td>\n",
       "      <td>NaN</td>\n",
       "    </tr>\n",
       "    <tr>\n",
       "      <th>3</th>\n",
       "      <td>26.0</td>\n",
       "      <td>0.0</td>\n",
       "      <td>NaN</td>\n",
       "      <td>NaN</td>\n",
       "      <td>NaN</td>\n",
       "      <td>NaN</td>\n",
       "      <td>NaN</td>\n",
       "      <td>between 100,000 and 1 million</td>\n",
       "      <td>NaN</td>\n",
       "      <td>NaN</td>\n",
       "      <td>...</td>\n",
       "      <td>1.0</td>\n",
       "      <td>1.0</td>\n",
       "      <td>NaN</td>\n",
       "      <td>NaN</td>\n",
       "      <td>1.0</td>\n",
       "      <td>NaN</td>\n",
       "      <td>NaN</td>\n",
       "      <td>NaN</td>\n",
       "      <td>NaN</td>\n",
       "      <td>NaN</td>\n",
       "    </tr>\n",
       "    <tr>\n",
       "      <th>4</th>\n",
       "      <td>20.0</td>\n",
       "      <td>0.0</td>\n",
       "      <td>NaN</td>\n",
       "      <td>NaN</td>\n",
       "      <td>NaN</td>\n",
       "      <td>NaN</td>\n",
       "      <td>NaN</td>\n",
       "      <td>between 100,000 and 1 million</td>\n",
       "      <td>NaN</td>\n",
       "      <td>NaN</td>\n",
       "      <td>...</td>\n",
       "      <td>NaN</td>\n",
       "      <td>NaN</td>\n",
       "      <td>NaN</td>\n",
       "      <td>NaN</td>\n",
       "      <td>NaN</td>\n",
       "      <td>NaN</td>\n",
       "      <td>NaN</td>\n",
       "      <td>NaN</td>\n",
       "      <td>NaN</td>\n",
       "      <td>NaN</td>\n",
       "    </tr>\n",
       "    <tr>\n",
       "      <th>5</th>\n",
       "      <td>28.0</td>\n",
       "      <td>0.0</td>\n",
       "      <td>NaN</td>\n",
       "      <td>NaN</td>\n",
       "      <td>NaN</td>\n",
       "      <td>NaN</td>\n",
       "      <td>NaN</td>\n",
       "      <td>less than 100,000</td>\n",
       "      <td>NaN</td>\n",
       "      <td>NaN</td>\n",
       "      <td>...</td>\n",
       "      <td>NaN</td>\n",
       "      <td>NaN</td>\n",
       "      <td>NaN</td>\n",
       "      <td>NaN</td>\n",
       "      <td>NaN</td>\n",
       "      <td>NaN</td>\n",
       "      <td>NaN</td>\n",
       "      <td>CodingEntrepreneurs</td>\n",
       "      <td>NaN</td>\n",
       "      <td>1.0</td>\n",
       "    </tr>\n",
       "    <tr>\n",
       "      <th>6</th>\n",
       "      <td>29.0</td>\n",
       "      <td>0.0</td>\n",
       "      <td>NaN</td>\n",
       "      <td>NaN</td>\n",
       "      <td>NaN</td>\n",
       "      <td>NaN</td>\n",
       "      <td>NaN</td>\n",
       "      <td>between 100,000 and 1 million</td>\n",
       "      <td>1.0</td>\n",
       "      <td>NaN</td>\n",
       "      <td>...</td>\n",
       "      <td>NaN</td>\n",
       "      <td>NaN</td>\n",
       "      <td>NaN</td>\n",
       "      <td>NaN</td>\n",
       "      <td>NaN</td>\n",
       "      <td>NaN</td>\n",
       "      <td>NaN</td>\n",
       "      <td>NaN</td>\n",
       "      <td>NaN</td>\n",
       "      <td>NaN</td>\n",
       "    </tr>\n",
       "    <tr>\n",
       "      <th>7</th>\n",
       "      <td>29.0</td>\n",
       "      <td>0.0</td>\n",
       "      <td>NaN</td>\n",
       "      <td>NaN</td>\n",
       "      <td>NaN</td>\n",
       "      <td>NaN</td>\n",
       "      <td>NaN</td>\n",
       "      <td>between 100,000 and 1 million</td>\n",
       "      <td>NaN</td>\n",
       "      <td>NaN</td>\n",
       "      <td>...</td>\n",
       "      <td>1.0</td>\n",
       "      <td>1.0</td>\n",
       "      <td>NaN</td>\n",
       "      <td>NaN</td>\n",
       "      <td>NaN</td>\n",
       "      <td>NaN</td>\n",
       "      <td>NaN</td>\n",
       "      <td>NaN</td>\n",
       "      <td>NaN</td>\n",
       "      <td>1.0</td>\n",
       "    </tr>\n",
       "    <tr>\n",
       "      <th>8</th>\n",
       "      <td>23.0</td>\n",
       "      <td>0.0</td>\n",
       "      <td>NaN</td>\n",
       "      <td>NaN</td>\n",
       "      <td>NaN</td>\n",
       "      <td>NaN</td>\n",
       "      <td>NaN</td>\n",
       "      <td>less than 100,000</td>\n",
       "      <td>NaN</td>\n",
       "      <td>NaN</td>\n",
       "      <td>...</td>\n",
       "      <td>NaN</td>\n",
       "      <td>NaN</td>\n",
       "      <td>NaN</td>\n",
       "      <td>NaN</td>\n",
       "      <td>NaN</td>\n",
       "      <td>NaN</td>\n",
       "      <td>NaN</td>\n",
       "      <td>NaN</td>\n",
       "      <td>NaN</td>\n",
       "      <td>NaN</td>\n",
       "    </tr>\n",
       "    <tr>\n",
       "      <th>9</th>\n",
       "      <td>24.0</td>\n",
       "      <td>0.0</td>\n",
       "      <td>NaN</td>\n",
       "      <td>NaN</td>\n",
       "      <td>NaN</td>\n",
       "      <td>NaN</td>\n",
       "      <td>NaN</td>\n",
       "      <td>more than 1 million</td>\n",
       "      <td>1.0</td>\n",
       "      <td>NaN</td>\n",
       "      <td>...</td>\n",
       "      <td>1.0</td>\n",
       "      <td>1.0</td>\n",
       "      <td>NaN</td>\n",
       "      <td>1.0</td>\n",
       "      <td>1.0</td>\n",
       "      <td>1.0</td>\n",
       "      <td>NaN</td>\n",
       "      <td>NaN</td>\n",
       "      <td>NaN</td>\n",
       "      <td>1.0</td>\n",
       "    </tr>\n",
       "  </tbody>\n",
       "</table>\n",
       "<p>10 rows × 136 columns</p>\n",
       "</div>"
      ],
      "text/plain": [
       "    Age  AttendedBootcamp  BootcampFinish  BootcampLoanYesNo BootcampName  \\\n",
       "0  27.0               0.0             NaN                NaN          NaN   \n",
       "1  34.0               0.0             NaN                NaN          NaN   \n",
       "2  21.0               0.0             NaN                NaN          NaN   \n",
       "3  26.0               0.0             NaN                NaN          NaN   \n",
       "4  20.0               0.0             NaN                NaN          NaN   \n",
       "5  28.0               0.0             NaN                NaN          NaN   \n",
       "6  29.0               0.0             NaN                NaN          NaN   \n",
       "7  29.0               0.0             NaN                NaN          NaN   \n",
       "8  23.0               0.0             NaN                NaN          NaN   \n",
       "9  24.0               0.0             NaN                NaN          NaN   \n",
       "\n",
       "   BootcampRecommend  ChildrenNumber                 CityPopulation  \\\n",
       "0                NaN             NaN            more than 1 million   \n",
       "1                NaN             NaN              less than 100,000   \n",
       "2                NaN             NaN            more than 1 million   \n",
       "3                NaN             NaN  between 100,000 and 1 million   \n",
       "4                NaN             NaN  between 100,000 and 1 million   \n",
       "5                NaN             NaN              less than 100,000   \n",
       "6                NaN             NaN  between 100,000 and 1 million   \n",
       "7                NaN             NaN  between 100,000 and 1 million   \n",
       "8                NaN             NaN              less than 100,000   \n",
       "9                NaN             NaN            more than 1 million   \n",
       "\n",
       "   CodeEventConferences  CodeEventDjangoGirls         ...           \\\n",
       "0                   NaN                   NaN         ...            \n",
       "1                   NaN                   NaN         ...            \n",
       "2                   NaN                   NaN         ...            \n",
       "3                   NaN                   NaN         ...            \n",
       "4                   NaN                   NaN         ...            \n",
       "5                   NaN                   NaN         ...            \n",
       "6                   1.0                   NaN         ...            \n",
       "7                   NaN                   NaN         ...            \n",
       "8                   NaN                   NaN         ...            \n",
       "9                   1.0                   NaN         ...            \n",
       "\n",
       "   YouTubeFCC  YouTubeFunFunFunction  YouTubeGoogleDev  YouTubeLearnCode  \\\n",
       "0         NaN                    NaN               NaN               NaN   \n",
       "1         1.0                    NaN               NaN               NaN   \n",
       "2         NaN                    NaN               NaN               1.0   \n",
       "3         1.0                    1.0               NaN               NaN   \n",
       "4         NaN                    NaN               NaN               NaN   \n",
       "5         NaN                    NaN               NaN               NaN   \n",
       "6         NaN                    NaN               NaN               NaN   \n",
       "7         1.0                    1.0               NaN               NaN   \n",
       "8         NaN                    NaN               NaN               NaN   \n",
       "9         1.0                    1.0               NaN               1.0   \n",
       "\n",
       "   YouTubeLevelUpTuts  YouTubeMIT  YouTubeMozillaHacks         YouTubeOther  \\\n",
       "0                 NaN         NaN                  NaN                  NaN   \n",
       "1                 NaN         NaN                  NaN                  NaN   \n",
       "2                 1.0         NaN                  NaN                  NaN   \n",
       "3                 1.0         NaN                  NaN                  NaN   \n",
       "4                 NaN         NaN                  NaN                  NaN   \n",
       "5                 NaN         NaN                  NaN  CodingEntrepreneurs   \n",
       "6                 NaN         NaN                  NaN                  NaN   \n",
       "7                 NaN         NaN                  NaN                  NaN   \n",
       "8                 NaN         NaN                  NaN                  NaN   \n",
       "9                 1.0         1.0                  NaN                  NaN   \n",
       "\n",
       "   YouTubeSimplilearn  YouTubeTheNewBoston  \n",
       "0                 NaN                  NaN  \n",
       "1                 NaN                  NaN  \n",
       "2                 NaN                  NaN  \n",
       "3                 NaN                  NaN  \n",
       "4                 NaN                  NaN  \n",
       "5                 NaN                  1.0  \n",
       "6                 NaN                  NaN  \n",
       "7                 NaN                  1.0  \n",
       "8                 NaN                  NaN  \n",
       "9                 NaN                  1.0  \n",
       "\n",
       "[10 rows x 136 columns]"
      ]
     },
     "execution_count": 2,
     "metadata": {},
     "output_type": "execute_result"
    }
   ],
   "source": [
    "market_2017.head(10)"
   ]
  },
  {
   "cell_type": "code",
   "execution_count": 3,
   "metadata": {
    "collapsed": false
   },
   "outputs": [
    {
     "name": "stdout",
     "output_type": "stream",
     "text": [
      "33.17744154057772\n",
      "5.2929848693259975\n"
     ]
    }
   ],
   "source": [
    "for i in market_2017[\"JobRoleInterest\"].str.contains(\"Web Developer|Mobile Developer\").value_counts():\n",
    "    print(i/len(market_2017[\"JobRoleInterest\"])*100)\n",
    "    "
   ]
  },
  {
   "cell_type": "markdown",
   "metadata": {},
   "source": [
    "Approximately 33% of the people are interested in taking courses like Mobile and Web development courses\n"
   ]
  },
  {
   "cell_type": "code",
   "execution_count": 4,
   "metadata": {
    "collapsed": false
   },
   "outputs": [
    {
     "name": "stdout",
     "output_type": "stream",
     "text": [
      "26.294360385144426\n",
      "12.176066024759285\n"
     ]
    }
   ],
   "source": [
    "for i in market_2017[\"JobRoleInterest\"].str.contains(\",\").value_counts():\n",
    "    print(i/len(market_2017[\"JobRoleInterest\"])*100)\n"
   ]
  },
  {
   "cell_type": "markdown",
   "metadata": {},
   "source": [
    "Approximately 26% of the people are interested in taking multiple courses"
   ]
  },
  {
   "cell_type": "code",
   "execution_count": 5,
   "metadata": {
    "collapsed": false
   },
   "outputs": [
    {
     "name": "stdout",
     "output_type": "stream",
     "text": [
      "United States of America    3125\n",
      "India                        528\n",
      "United Kingdom               315\n",
      "Canada                       260\n",
      "Poland                       131\n",
      "Brazil                       129\n",
      "Germany                      125\n",
      "Australia                    112\n",
      "Russia                       102\n",
      "Ukraine                       89\n",
      "Name: CountryLive, dtype: int64\n"
     ]
    },
    {
     "data": {
      "text/plain": [
       "United States of America    45.700497\n",
       "India                        7.721556\n",
       "United Kingdom               4.606610\n",
       "Canada                       3.802281\n",
       "Poland                       1.915765\n",
       "Brazil                       1.886517\n",
       "Germany                      1.828020\n",
       "Australia                    1.637906\n",
       "Russia                       1.491664\n",
       "Ukraine                      1.301550\n",
       "Name: CountryLive, dtype: float64"
      ]
     },
     "execution_count": 5,
     "metadata": {},
     "output_type": "execute_result"
    }
   ],
   "source": [
    "interest_customers = market_2017.dropna(subset = [\"JobRoleInterest\"])\n",
    "print(interest_customers[\"CountryLive\"].value_counts().head(10))\n",
    "interest_customers[\"CountryLive\"].value_counts(normalize = True).mul(100).head(10)"
   ]
  },
  {
   "cell_type": "markdown",
   "metadata": {},
   "source": [
    "These are the 10 best countries to advertise, United States of America is the clear leader. \n",
    "\n",
    "Countries like India, UK and Canada are good places as well "
   ]
  },
  {
   "cell_type": "code",
   "execution_count": 6,
   "metadata": {
    "collapsed": false
   },
   "outputs": [
    {
     "name": "stdout",
     "output_type": "stream",
     "text": [
      "[86.24141876430205, 13.75858123569794]\n"
     ]
    },
    {
     "data": {
      "text/plain": [
       "<Container object of 2 artists>"
      ]
     },
     "execution_count": 6,
     "metadata": {},
     "output_type": "execute_result"
    },
    {
     "data": {
      "image/png": "[encoded data removed]",
      "text/plain": [
       "<matplotlib.figure.Figure at 0x7fc7b2b76860>"
      ]
     },
     "metadata": {},
     "output_type": "display_data"
    }
   ],
   "source": [
    "li=[]\n",
    "for i in market_2017[\"JobRoleInterest\"].str.contains(\"Web Developer|Mobile Developer\").value_counts():\n",
    "    li.append(i)\n",
    "new_li=[]\n",
    "for j in li:\n",
    "    val = j*100/sum(li)\n",
    "    new_li.append(val)\n",
    "print(new_li)\n",
    "from matplotlib import pyplot as plt\n",
    "%matplotlib inline\n",
    "keys = [\"Web Developer|Mobile Developer\",\"Others\"]\n",
    "plt.bar([0,1], new_li, color ='maroon',\n",
    "        width = 0.4)"
   ]
  },
  {
   "cell_type": "code",
   "execution_count": 7,
   "metadata": {
    "collapsed": false
   },
   "outputs": [
    {
     "data": {
      "text/plain": [
       "CountryLive\n",
       "United States of America    3747867.0\n",
       "India                        365317.0\n",
       "Canada                       204548.0\n",
       "Australia                    170495.0\n",
       "Spain                        120058.0\n",
       "Bangladesh                   101647.0\n",
       "United Kingdom                91405.0\n",
       "Nigeria                       53296.0\n",
       "Brazil                        53273.0\n",
       "Russia                        48710.0\n",
       "Name: MoneyForLearning, dtype: float64"
      ]
     },
     "execution_count": 7,
     "metadata": {},
     "output_type": "execute_result"
    }
   ],
   "source": [
    "new_market_2017 = market_2017.dropna(subset=[\"JobRoleInterest\"])\n",
    "new_market_2017\n",
    "\n",
    "import numpy as np \n",
    "table = pd.pivot_table(data=new_market_2017,index=['CountryLive'],aggfunc = np.sum)\n",
    "table[\"MoneyForLearning\"].sort_values(ascending = False).head(10)"
   ]
  },
  {
   "cell_type": "markdown",
   "metadata": {},
   "source": [
    "American dollars the amount of money spent by participants from the moment they started coding until the moment they completed the survey. The above 10 countries are the highest number"
   ]
  },
  {
   "cell_type": "code",
   "execution_count": 8,
   "metadata": {
    "collapsed": false
   },
   "outputs": [
    {
     "name": "stderr",
     "output_type": "stream",
     "text": [
      "/dataquest/system/env/python3/lib/python3.4/site-packages/pandas/core/indexing.py:537: SettingWithCopyWarning:\n",
      "\n",
      "\n",
      "A value is trying to be set on a copy of a slice from a DataFrame.\n",
      "Try using .loc[row_indexer,col_indexer] = value instead\n",
      "\n",
      "See the caveats in the documentation: http://pandas.pydata.org/pandas-docs/stable/indexing.html#indexing-view-versus-copy\n",
      "\n"
     ]
    },
    {
     "data": {
      "text/html": [
       "<div>\n",
       "<style scoped>\n",
       "    .dataframe tbody tr th:only-of-type {\n",
       "        vertical-align: middle;\n",
       "    }\n",
       "\n",
       "    .dataframe tbody tr th {\n",
       "        vertical-align: top;\n",
       "    }\n",
       "\n",
       "    .dataframe thead th {\n",
       "        text-align: right;\n",
       "    }\n",
       "</style>\n",
       "<table border=\"1\" class=\"dataframe\">\n",
       "  <thead>\n",
       "    <tr style=\"text-align: right;\">\n",
       "      <th></th>\n",
       "      <th>Age</th>\n",
       "      <th>AttendedBootcamp</th>\n",
       "      <th>BootcampFinish</th>\n",
       "      <th>BootcampLoanYesNo</th>\n",
       "      <th>BootcampName</th>\n",
       "      <th>BootcampRecommend</th>\n",
       "      <th>ChildrenNumber</th>\n",
       "      <th>CityPopulation</th>\n",
       "      <th>CodeEventConferences</th>\n",
       "      <th>CodeEventDjangoGirls</th>\n",
       "      <th>...</th>\n",
       "      <th>YouTubeFCC</th>\n",
       "      <th>YouTubeFunFunFunction</th>\n",
       "      <th>YouTubeGoogleDev</th>\n",
       "      <th>YouTubeLearnCode</th>\n",
       "      <th>YouTubeLevelUpTuts</th>\n",
       "      <th>YouTubeMIT</th>\n",
       "      <th>YouTubeMozillaHacks</th>\n",
       "      <th>YouTubeOther</th>\n",
       "      <th>YouTubeSimplilearn</th>\n",
       "      <th>YouTubeTheNewBoston</th>\n",
       "    </tr>\n",
       "  </thead>\n",
       "  <tbody>\n",
       "  </tbody>\n",
       "</table>\n",
       "<p>0 rows × 136 columns</p>\n",
       "</div>"
      ],
      "text/plain": [
       "Empty DataFrame\n",
       "Columns: [Age, AttendedBootcamp, BootcampFinish, BootcampLoanYesNo, BootcampName, BootcampRecommend, ChildrenNumber, CityPopulation, CodeEventConferences, CodeEventDjangoGirls, CodeEventFCC, CodeEventGameJam, CodeEventGirlDev, CodeEventHackathons, CodeEventMeetup, CodeEventNodeSchool, CodeEventNone, CodeEventOther, CodeEventRailsBridge, CodeEventRailsGirls, CodeEventStartUpWknd, CodeEventWkdBootcamps, CodeEventWomenCode, CodeEventWorkshops, CommuteTime, CountryCitizen, CountryLive, EmploymentField, EmploymentFieldOther, EmploymentStatus, EmploymentStatusOther, ExpectedEarning, FinanciallySupporting, FirstDevJob, Gender, GenderOther, HasChildren, HasDebt, HasFinancialDependents, HasHighSpdInternet, HasHomeMortgage, HasServedInMilitary, HasStudentDebt, HomeMortgageOwe, HoursLearning, ID.x, ID.y, Income, IsEthnicMinority, IsReceiveDisabilitiesBenefits, IsSoftwareDev, IsUnderEmployed, JobApplyWhen, JobInterestBackEnd, JobInterestDataEngr, JobInterestDataSci, JobInterestDevOps, JobInterestFrontEnd, JobInterestFullStack, JobInterestGameDev, JobInterestInfoSec, JobInterestMobile, JobInterestOther, JobInterestProjMngr, JobInterestQAEngr, JobInterestUX, JobPref, JobRelocateYesNo, JobRoleInterest, JobWherePref, LanguageAtHome, MaritalStatus, MoneyForLearning, MonthsProgramming, NetworkID, Part1EndTime, Part1StartTime, Part2EndTime, Part2StartTime, PodcastChangeLog, PodcastCodeNewbie, PodcastCodePen, PodcastDevTea, PodcastDotNET, PodcastGiantRobots, PodcastJSAir, PodcastJSJabber, PodcastNone, PodcastOther, PodcastProgThrowdown, PodcastRubyRogues, PodcastSEDaily, PodcastSERadio, PodcastShopTalk, PodcastTalkPython, PodcastTheWebAhead, ResourceCodecademy, ResourceCodeWars, ResourceCoursera, ResourceCSS, ...]\n",
       "Index: []\n",
       "\n",
       "[0 rows x 136 columns]"
      ]
     },
     "execution_count": 8,
     "metadata": {},
     "output_type": "execute_result"
    }
   ],
   "source": [
    "new_market_2017[new_market_2017[\"MonthsProgramming\"]==0]\n",
    "new_market_2017.loc[new_market_2017[\"MonthsProgramming\"] == 0, \"MonthsProgramming\"] = 1\n",
    "new_market_2017[new_market_2017[\"MonthsProgramming\"]==0]"
   ]
  },
  {
   "cell_type": "code",
   "execution_count": 9,
   "metadata": {
    "collapsed": false
   },
   "outputs": [
    {
     "name": "stderr",
     "output_type": "stream",
     "text": [
      "/dataquest/system/env/python3/lib/python3.4/site-packages/ipykernel/__main__.py:1: SettingWithCopyWarning:\n",
      "\n",
      "\n",
      "A value is trying to be set on a copy of a slice from a DataFrame.\n",
      "Try using .loc[row_indexer,col_indexer] = value instead\n",
      "\n",
      "See the caveats in the documentation: http://pandas.pydata.org/pandas-docs/stable/indexing.html#indexing-view-versus-copy\n",
      "\n"
     ]
    },
    {
     "data": {
      "text/plain": [
       "1           13.333333\n",
       "2          200.000000\n",
       "3            0.000000\n",
       "4            0.000000\n",
       "6            0.000000\n",
       "9            5.555556\n",
       "11           0.000000\n",
       "13                NaN\n",
       "14                NaN\n",
       "15           0.000000\n",
       "16          16.666667\n",
       "18          35.714286\n",
       "19          17.857143\n",
       "21         100.000000\n",
       "22         285.714286\n",
       "23         100.000000\n",
       "28           2.416667\n",
       "29                NaN\n",
       "30          66.666667\n",
       "31           0.000000\n",
       "32         100.000000\n",
       "33          83.333333\n",
       "34                NaN\n",
       "35           0.000000\n",
       "37                NaN\n",
       "40          25.000000\n",
       "41           0.000000\n",
       "42          50.000000\n",
       "43           0.000000\n",
       "52           0.000000\n",
       "             ...     \n",
       "18080       25.000000\n",
       "18081             NaN\n",
       "18088      182.000000\n",
       "18089        0.000000\n",
       "18090        0.000000\n",
       "18093       27.777778\n",
       "18097        0.000000\n",
       "18098        1.222222\n",
       "18099     1000.000000\n",
       "18107      275.000000\n",
       "18111      200.000000\n",
       "18112        0.000000\n",
       "18113        0.000000\n",
       "18118        0.000000\n",
       "18125       28.571429\n",
       "18129             NaN\n",
       "18130        0.000000\n",
       "18131       16.666667\n",
       "18151        0.000000\n",
       "18153        0.000000\n",
       "18154      297.000000\n",
       "18155        0.000000\n",
       "18156     1000.000000\n",
       "18157        0.000000\n",
       "18160       33.333333\n",
       "18161        0.000000\n",
       "18162        0.000000\n",
       "18163             NaN\n",
       "18171    10000.000000\n",
       "18174             NaN\n",
       "Name: Cost_PM, Length: 6992, dtype: float64"
      ]
     },
     "execution_count": 9,
     "metadata": {},
     "output_type": "execute_result"
    }
   ],
   "source": [
    "new_market_2017[\"Cost_PM\"] = new_market_2017[\"MoneyForLearning\"]/new_market_2017[\"MonthsProgramming\"]\n",
    "new_market_2017[\"Cost_PM\"]"
   ]
  },
  {
   "cell_type": "code",
   "execution_count": 10,
   "metadata": {
    "collapsed": false
   },
   "outputs": [
    {
     "data": {
      "text/plain": [
       "CountryLive\n",
       "Yemen                       10000.000000\n",
       "Puerto Rico                  4291.394558\n",
       "Austria                       936.208333\n",
       "Spain                         784.553084\n",
       "Jamaica                       747.037037\n",
       "Hong Kong                     523.341049\n",
       "Trinidad & Tobago             500.000000\n",
       "Australia                     419.268452\n",
       "Taiwan                        417.966524\n",
       "Luxembourg                    338.817664\n",
       "Norway                        318.914815\n",
       "New Zealand                   316.171958\n",
       "Chile                         300.416667\n",
       "Israel                        298.130787\n",
       "Russia                        284.615280\n",
       "Portugal                      277.752763\n",
       "Uganda                        276.620370\n",
       "Vietnam                       243.324074\n",
       "Bangladesh                    239.361883\n",
       "Niger                         239.303571\n",
       "Nigeria                       237.303388\n",
       "China                         236.441270\n",
       "United States of America      227.997996\n",
       "Dominican Republic            201.178266\n",
       "Somalia                       150.000000\n",
       "Nicaragua                     150.000000\n",
       "Saudi Arabia                  142.361111\n",
       "India                         135.100982\n",
       "Papua New Guinea              125.000000\n",
       "Angola                        116.666667\n",
       "                                ...     \n",
       "Guatemala                       0.405405\n",
       "Estonia                         0.142857\n",
       "Iceland                         0.034483\n",
       "Algeria                         0.000000\n",
       "Anguilla                        0.000000\n",
       "Botswana                        0.000000\n",
       "Bahrain                         0.000000\n",
       "Kyrgyzstan                      0.000000\n",
       "Cayman Islands                  0.000000\n",
       "Channel Islands                 0.000000\n",
       "Cuba                            0.000000\n",
       "Ecuador                         0.000000\n",
       "Georgia                         0.000000\n",
       "Guadeloupe                      0.000000\n",
       "Haiti                           0.000000\n",
       "Honduras                        0.000000\n",
       "Jordan                          0.000000\n",
       "Mozambique                      0.000000\n",
       "Nambia                          0.000000\n",
       "Netherland Antilles             0.000000\n",
       "Samoa                           0.000000\n",
       "Turkmenistan                    0.000000\n",
       "Vanuatu                         0.000000\n",
       "Afghanistan                     0.000000\n",
       "Aruba                                NaN\n",
       "Bolivia                              NaN\n",
       "Liberia                              NaN\n",
       "Panama                               NaN\n",
       "Qatar                                NaN\n",
       "Sudan                                NaN\n",
       "Name: Cost_PM, Length: 137, dtype: float64"
      ]
     },
     "execution_count": 10,
     "metadata": {},
     "output_type": "execute_result"
    }
   ],
   "source": [
    "new_table = pd.pivot_table(new_market_2017,index=['CountryLive'],aggfunc = np.mean)\n",
    "new_table[\"Cost_PM\"].sort_values(ascending = False)"
   ]
  },
  {
   "cell_type": "markdown",
   "metadata": {},
   "source": [
    "Money invested per month by all countries, have a look at the 4 countries that we wanted to observe below\n"
   ]
  },
  {
   "cell_type": "code",
   "execution_count": 11,
   "metadata": {
    "collapsed": false
   },
   "outputs": [
    {
     "data": {
      "text/plain": [
       "CountryLive\n",
       "United States of America    227.997996\n",
       "India                       135.100982\n",
       "Canada                      113.510961\n",
       "United Kingdom               45.534443\n",
       "Name: Cost_PM, dtype: float64"
      ]
     },
     "execution_count": 11,
     "metadata": {},
     "output_type": "execute_result"
    }
   ],
   "source": [
    "a = new_market_2017[\"CountryLive\"]==\"United States of America\"\n",
    "b = new_market_2017[\"CountryLive\"]==\"United Kingdom\"\n",
    "c = new_market_2017[\"CountryLive\"]==\"Canada\"\n",
    "d = new_market_2017[\"CountryLive\"]==\"India\"\n",
    "new_market_2017[a|b|c|d]\n",
    "top_4 =  pd.pivot_table(new_market_2017[a|b|c|d],index=['CountryLive'],aggfunc = np.mean)\n",
    "top_4[\"Cost_PM\"].sort_values(ascending = False)"
   ]
  },
  {
   "cell_type": "code",
   "execution_count": 12,
   "metadata": {
    "collapsed": false
   },
   "outputs": [
    {
     "data": {
      "text/plain": [
       "(array([1, 2, 3, 4]), <a list of 4 Text xticklabel objects>)"
      ]
     },
     "execution_count": 12,
     "metadata": {},
     "output_type": "execute_result"
    },
    {
     "data": {
      "image/png": "[encoded data removed]",
      "text/plain": [
       "<matplotlib.figure.Figure at 0x7fc7b03b2630>"
      ]
     },
     "metadata": {},
     "output_type": "display_data"
    }
   ],
   "source": [
    "%matplotlib inline\n",
    "new_market_2017[a|b|c|d].boxplot(by ='CountryLive', column =['Cost_PM'], grid = False)\n",
    "plt.ylim(0,90000)\n",
    "plt.subplots_adjust(left=0.25)\n",
    "plt.xticks(rotation=90)"
   ]
  },
  {
   "cell_type": "markdown",
   "metadata": {},
   "source": [
    "From th above boxplot, it is evident that Canada, India and the United Kingdom have very few outliers with respect to money spent per month. But on the other hand the United States of America has 2 outliers which are way out of range. "
   ]
  },
  {
   "cell_type": "code",
   "execution_count": 13,
   "metadata": {
    "collapsed": false
   },
   "outputs": [
    {
     "data": {
      "text/plain": [
       "CountryLive\n",
       "Canada                      113.510961\n",
       "India                       135.100982\n",
       "United Kingdom               45.534443\n",
       "United States of America    183.800110\n",
       "Name: Cost_PM, dtype: float64"
      ]
     },
     "execution_count": 13,
     "metadata": {},
     "output_type": "execute_result"
    }
   ],
   "source": [
    "market_no_outliers_2017 = new_market_2017[a|b|c|d][new_market_2017[a|b|c|d][\"Cost_PM\"]<20000]\n",
    "countries_mean = pd.pivot_table(market_no_outliers_2017,index=['CountryLive'],aggfunc = np.mean)\n",
    "countries_mean[\"Cost_PM\"]"
   ]
  },
  {
   "cell_type": "code",
   "execution_count": 14,
   "metadata": {
    "collapsed": false
   },
   "outputs": [
    {
     "data": {
      "text/plain": [
       "(array([1, 2, 3, 4]), <a list of 4 Text xticklabel objects>)"
      ]
     },
     "execution_count": 14,
     "metadata": {},
     "output_type": "execute_result"
    },
    {
     "data": {
      "image/png": "[encoded data removed]",
      "text/plain": [
       "<matplotlib.figure.Figure at 0x7fc7b052f358>"
      ]
     },
     "metadata": {},
     "output_type": "display_data"
    }
   ],
   "source": [
    "market_no_outliers_2017.boxplot(by ='CountryLive', column =['Cost_PM'], grid = False)\n",
    "plt.ylim(0,20000)\n",
    "plt.subplots_adjust(left=0.25)\n",
    "plt.xticks(rotation=90)"
   ]
  },
  {
   "cell_type": "code",
   "execution_count": 15,
   "metadata": {
    "collapsed": false
   },
   "outputs": [],
   "source": [
    "india_outliers = market_no_outliers_2017[(market_no_outliers_2017[\"CountryLive\"]==\"India\") & (market_no_outliers_2017[\"Cost_PM\"]>3000)]\n",
    "# print(india_outliers[[\"MoneyForLearning\",\"Cost_PM\",\"MonthsProgramming\",\"AttendedBootcamp\",\"BootcampFinish\",\"BootcampLoanYesNo\",\"BootcampName\",\"BootcampRecommend\"]])\n",
    "canada_outliers = market_no_outliers_2017[(market_no_outliers_2017[\"CountryLive\"]==\"Canada\") & (market_no_outliers_2017[\"Cost_PM\"]>3000)]\n",
    "# canada_outliers[[\"MoneyForLearning\",\"Cost_PM\",\"MonthsProgramming\",\"AttendedBootcamp\",\"BootcampFinish\",\"BootcampLoanYesNo\",\"BootcampName\",\"BootcampRecommend\"]]\n",
    "usa_outliers = market_no_outliers_2017[(market_no_outliers_2017[\"CountryLive\"]==\"United States of America\") & (market_no_outliers_2017[\"Cost_PM\"]>10000)]\n",
    "# usa_outliers[[\"MoneyForLearning\",\"Cost_PM\",\"MonthsProgramming\",\"AttendedBootcamp\",\"BootcampFinish\",\"BootcampLoanYesNo\",\"BootcampName\",\"BootcampRecommend\"]]"
   ]
  },
  {
   "cell_type": "markdown",
   "metadata": {},
   "source": [
    "The above rows look like outliers, these students have spent a lots of money and have not attended bootcamps as well. I am not sure how accurate these values are, if these participants actually spent this much money on learning. \n",
    "\n",
    "So it is safe to assume that these rows are outliers. \n",
    "Let us drop these rows and re calculate the mean. \n",
    "\n",
    "From the boxplot above, it was evident india had some outliers after the United States of America, Canada and United Kingdom look good. \n"
   ]
  },
  {
   "cell_type": "code",
   "execution_count": 16,
   "metadata": {
    "collapsed": false
   },
   "outputs": [],
   "source": [
    "market_no_outliers_2017 = market_no_outliers_2017.drop(index=[1728,1755,7989,8126,13398,15587,3930,6805,7198,16650,16997,17231,13659])\n"
   ]
  },
  {
   "cell_type": "code",
   "execution_count": 17,
   "metadata": {
    "collapsed": false
   },
   "outputs": [
    {
     "data": {
      "text/plain": [
       "CountryLive\n",
       "Canada                       93.065400\n",
       "India                        65.758763\n",
       "United Kingdom               45.534443\n",
       "United States of America    155.459187\n",
       "Name: Cost_PM, dtype: float64"
      ]
     },
     "execution_count": 17,
     "metadata": {},
     "output_type": "execute_result"
    }
   ],
   "source": [
    "final_vals = pd.pivot_table(market_no_outliers_2017,index = \"CountryLive\", \n",
    "               aggfunc = np.mean)\n",
    "final_vals[\"Cost_PM\"]"
   ]
  },
  {
   "cell_type": "markdown",
   "metadata": {},
   "source": [
    "Average subscription costs 59 dollars a month, by observing the values above other that United States of America, let us make some predictions as to which country will be a good market to advertise in. "
   ]
  },
  {
   "cell_type": "code",
   "execution_count": 18,
   "metadata": {
    "collapsed": false
   },
   "outputs": [
    {
     "data": {
      "text/plain": [
       "CountryLive\n",
       "Canada                       239\n",
       "India                        457\n",
       "United Kingdom               279\n",
       "United States of America    2925\n",
       "Name: BootcampName, dtype: int64"
      ]
     },
     "execution_count": 18,
     "metadata": {},
     "output_type": "execute_result"
    },
    {
     "data": {
      "image/png": "[encoded data removed]",
      "text/plain": [
       "<matplotlib.figure.Figure at 0x7fc7ae323860>"
      ]
     },
     "metadata": {},
     "output_type": "display_data"
    }
   ],
   "source": [
    "country_count = pd.pivot_table(market_no_outliers_2017,index = \"CountryLive\", \n",
    "               aggfunc = np.size)\n",
    "country_count.iloc[:,4].plot(kind=\"bar\")\n",
    "country_count.iloc[:,4]"
   ]
  },
  {
   "cell_type": "markdown",
   "metadata": {},
   "source": [
    "From the above graph, United States of America is clear at the top, India at 2nd is a distant 2nd.\n",
    "\n",
    "Advertsing in UK makes no sense as average money customers are ready to spend per month is well below the subscription costs offered by the company. So investing in UK seems pointless. \n",
    "\n",
    "Now the choice lies between splitting marketting costs between USA, Canada and India.  So it would be logical to assume that majority the company's budget would be utilized in the United States of America. And a smaller amount of money split between India and Canada equally. \n",
    "\n"
   ]
  },
  {
   "cell_type": "code",
   "execution_count": null,
   "metadata": {
    "collapsed": false
   },
   "outputs": [],
   "source": []
  },
  {
   "cell_type": "code",
   "execution_count": 19,
   "metadata": {
    "collapsed": false
   },
   "outputs": [],
   "source": [
    "# country_mean = {}\n",
    "# country_sd = {}\n",
    "# for i in market_no_outliers_2017[\"CountryLive\"].unique():\n",
    "#     country_set = market_no_outliers_2017[market_no_outliers_2017[\"CountryLive\"]==i]\n",
    "\n",
    "#     a = country_set[\"Cost_PM\"].mean()\n",
    "#     b = country_set[\"Cost_PM\"].std(ddof = 0)\n",
    "#     country_mean[i] = a\n",
    "#     country_sd[i] = b\n",
    "# print(country_mean,country_sd)"
   ]
  },
  {
   "cell_type": "code",
   "execution_count": 20,
   "metadata": {
    "collapsed": false
   },
   "outputs": [
    {
     "data": {
      "image/png": "[encoded data removed]",
      "text/plain": [
       "<matplotlib.figure.Figure at 0x7fc7ae1e3ef0>"
      ]
     },
     "metadata": {},
     "output_type": "display_data"
    }
   ],
   "source": [
    "set_india = market_no_outliers_2017[market_no_outliers_2017[\"CountryLive\"]==\"India\"]\n",
    "set_usa = market_no_outliers_2017[market_no_outliers_2017[\"CountryLive\"]==\"United States of America\"]\n",
    "set_canada = market_no_outliers_2017[market_no_outliers_2017[\"CountryLive\"]==\"Canada\"]\n",
    "set_uk = market_no_outliers_2017[market_no_outliers_2017[\"CountryLive\"]==\"United Kingdom\"]\n",
    "# set_india[\"Cost_PM\"].plot.hist()\n",
    "# plt.axvline(set_india[\"Cost_PM\"].mean(), color = 'Black', label = 'Mean')\n",
    "# plt.axvline(set_india[\"Cost_PM\"].std(ddof = 0)+set_india[\"Cost_PM\"].mean(), color=\"Red\", label=\"Above 1SD\")\n",
    "# plt.axvline(2*set_india[\"Cost_PM\"].std(ddof = 0)+set_india[\"Cost_PM\"].mean(), color=\"Yellow\", label=\"Below 2SD\")\n",
    "# plt.legend()\n",
    "\n",
    "\n",
    "\n",
    "n_bins = 10\n",
    "\n",
    "\n",
    "fig, ((ax0, ax1), (ax2, ax3)) = plt.subplots(nrows=2, ncols=2)\n",
    "\n",
    "\n",
    "ax0.hist(set_india[\"Cost_PM\"], n_bins, histtype='bar')\n",
    "ax0.set_title('India')\n",
    "plt.xlim(set_india[\"Cost_PM\"].min(),3000)\n",
    "plt.ylim(0,400)\n",
    "ax0.axvline(set_india[\"Cost_PM\"].mean(), color = 'Black', label = 'Mean')\n",
    "ax0.axvline(set_india[\"Cost_PM\"].std(ddof = 0)+set_india[\"Cost_PM\"].mean(), color=\"Red\", label=\"Above 1SD\")\n",
    "ax0.axvline(2*set_india[\"Cost_PM\"].std(ddof = 0)+set_india[\"Cost_PM\"].mean(), color=\"Yellow\", label=\"Above 2SD\")\n",
    "ax0.legend( prop={\"size\":10})\n",
    "\n",
    "ax1.hist(set_usa[\"Cost_PM\"], n_bins, histtype='bar')\n",
    "ax1.set_title('United States of America')\n",
    "plt.xlim(set_usa[\"Cost_PM\"].min(),5000)\n",
    "ax1.axvline(set_usa[\"Cost_PM\"].mean(), color = 'Black', label = 'Mean')\n",
    "ax1.axvline(set_usa[\"Cost_PM\"].std(ddof = 0)+set_usa[\"Cost_PM\"].mean(), color=\"Red\", label=\"Above 1SD\")\n",
    "ax1.axvline(2*set_usa[\"Cost_PM\"].std(ddof = 0)+set_usa[\"Cost_PM\"].mean(), color=\"Yellow\", label=\"Above 2SD\")\n",
    "ax1.legend( prop={\"size\":10})\n",
    "\n",
    "ax2.hist(set_canada[\"Cost_PM\"], n_bins, histtype='bar')\n",
    "ax2.set_title('Canada ')\n",
    "plt.xlim(set_canada[\"Cost_PM\"].min(),3000)\n",
    "plt.ylim(0,250)\n",
    "ax2.axvline(set_canada[\"Cost_PM\"].mean(), color = 'Black', label = 'Mean')\n",
    "ax2.axvline(set_canada[\"Cost_PM\"].std(ddof = 0)+set_canada[\"Cost_PM\"].mean(), color=\"Red\", label=\"Above 1SD\")\n",
    "ax2.axvline(2*set_canada[\"Cost_PM\"].std(ddof = 0)+set_canada[\"Cost_PM\"].mean(), color=\"Yellow\", label=\"Above 2SD\")\n",
    "ax2.legend( prop={\"size\":10})\n",
    "\n",
    "\n",
    "ax3.hist(set_uk[\"Cost_PM\"], n_bins, histtype='bar')\n",
    "ax3.set_title('United Kingdom')\n",
    "plt.xlim(set_uk[\"Cost_PM\"].min(),3000)\n",
    "plt.ylim(0,300)\n",
    "ax3.axvline(set_uk[\"Cost_PM\"].mean(), color = 'Black', label = 'Mean')\n",
    "ax3.axvline(set_uk[\"Cost_PM\"].std(ddof = 0)+set_uk[\"Cost_PM\"].mean(), color=\"Red\", label=\"Above 1SD\")\n",
    "ax3.axvline(2*set_uk[\"Cost_PM\"].std(ddof = 0)+set_uk[\"Cost_PM\"].mean(), color=\"Yellow\", label=\"Above 2SD\")\n",
    "ax3.legend( prop={\"size\":10})\n",
    "\n",
    "\n",
    "fig.tight_layout()\n",
    "plt.show()"
   ]
  },
  {
   "cell_type": "markdown",
   "metadata": {},
   "source": [
    "The above plot of the 4 countries is of the \n",
    "1. mean\n",
    "2. mean + standard deviation \n",
    "3. mean + 2 * standard deviation\n",
    "\n",
    "Plotting the values below the mean make no sense as the number of participants cannot be negative.\n",
    "\n",
    "From the graphs it is very evident that most of the values fall between (1) and (2) and a few inbetween (2) and (3).\n",
    "\n",
    "We have a few more outliers but these aren't that extreme"
   ]
  },
  {
   "cell_type": "code",
   "execution_count": 31,
   "metadata": {
    "collapsed": false
   },
   "outputs": [
    {
     "data": {
      "text/plain": [
       "<matplotlib.text.Text at 0x7fc7a6f99358>"
      ]
     },
     "execution_count": 31,
     "metadata": {},
     "output_type": "execute_result"
    },
    {
     "data": {
      "image/png": "[encoded data removed]",
      "text/plain": [
       "<matplotlib.figure.Figure at 0x7fc7a70446d8>"
      ]
     },
     "metadata": {},
     "output_type": "display_data"
    }
   ],
   "source": [
    "set_india[\"Cost_PM\"].plot.kde(xlim=(set_india[\"Cost_PM\"].min(),600))\n",
    "plt.axvline(set_india[\"Cost_PM\"].mean(), label=\"Mean\",color=\"Black\")\n",
    "plt.axvline(set_india['Cost_PM'].std(ddof = 0),color=\"Red\", label=\"Standard deviation\")\n",
    "plt.axvline(set_india[\"Cost_PM\"].mean()+set_india['Cost_PM'].std(ddof = 0),color=\"Violet\", label=\"1 SD+ Mean\")\n",
    "plt.axvline(59, label=\"Subscription cost per month\",color=\"Orange\")\n",
    "plt.legend()\n",
    "plt.title(\"Cost per month for India\")"
   ]
  },
  {
   "cell_type": "code",
   "execution_count": 32,
   "metadata": {
    "collapsed": false
   },
   "outputs": [
    {
     "data": {
      "text/plain": [
       "<matplotlib.text.Text at 0x7fc7a6f210f0>"
      ]
     },
     "execution_count": 32,
     "metadata": {},
     "output_type": "execute_result"
    },
    {
     "data": {
      "image/png": "[encoded data removed]",
      "text/plain": [
       "<matplotlib.figure.Figure at 0x7fc7a6fc2e48>"
      ]
     },
     "metadata": {},
     "output_type": "display_data"
    }
   ],
   "source": [
    "set_usa[\"Cost_PM\"].plot.kde(xlim=(set_usa[\"Cost_PM\"].min(),800))\n",
    "plt.axvline(set_usa[\"Cost_PM\"].mean(), label=\"Mean\",color=\"Black\")\n",
    "plt.axvline(set_usa['Cost_PM'].std(ddof = 0),color=\"Red\", label=\"Standard deviation\")\n",
    "plt.axvline(set_usa[\"Cost_PM\"].mean()+set_usa['Cost_PM'].std(ddof = 0),color=\"Violet\", label=\"1 SD+ Mean\")\n",
    "plt.axvline(59, label=\"Subscription cost per month\",color=\"Orange\")\n",
    "plt.legend()\n",
    "plt.title(\"Cost per month for United States of America\")"
   ]
  },
  {
   "cell_type": "code",
   "execution_count": 33,
   "metadata": {
    "collapsed": false
   },
   "outputs": [
    {
     "data": {
      "text/plain": [
       "<matplotlib.text.Text at 0x7fc7a6eb0048>"
      ]
     },
     "execution_count": 33,
     "metadata": {},
     "output_type": "execute_result"
    },
    {
     "data": {
      "image/png": "[encoded data removed]",
      "text/plain": [
       "<matplotlib.figure.Figure at 0x7fc7a6ed3550>"
      ]
     },
     "metadata": {},
     "output_type": "display_data"
    }
   ],
   "source": [
    "set_canada[\"Cost_PM\"].plot.kde(xlim=(set_canada[\"Cost_PM\"].min(),500))\n",
    "plt.axvline(set_canada[\"Cost_PM\"].mean(), label=\"Mean\",color=\"Black\")\n",
    "plt.axvline(set_canada['Cost_PM'].std(ddof = 0),color=\"Red\", label=\"Standard deviation\")\n",
    "plt.axvline(set_canada[\"Cost_PM\"].mean()+set_canada['Cost_PM'].std(ddof = 0),color=\"Violet\", label=\"1 SD+ Mean\")\n",
    "plt.axvline(59, label=\"Subscription cost per month\",color=\"Orange\")\n",
    "plt.legend()\n",
    "plt.title(\"Cost per month for Canada\")"
   ]
  },
  {
   "cell_type": "code",
   "execution_count": 35,
   "metadata": {
    "collapsed": false
   },
   "outputs": [
    {
     "data": {
      "text/plain": [
       "<matplotlib.text.Text at 0x7fc7a6dbab38>"
      ]
     },
     "execution_count": 35,
     "metadata": {},
     "output_type": "execute_result"
    },
    {
     "data": {
      "image/png": "[encoded data removed]",
      "text/plain": [
       "<matplotlib.figure.Figure at 0x7fc7a6de36d8>"
      ]
     },
     "metadata": {},
     "output_type": "display_data"
    }
   ],
   "source": [
    "set_uk[\"Cost_PM\"].plot.kde(xlim=(set_uk[\"Cost_PM\"].min(),500))\n",
    "plt.axvline(set_uk[\"Cost_PM\"].mean(), label=\"Mean\",color=\"Black\")\n",
    "plt.axvline(set_uk['Cost_PM'].std(ddof = 0),color=\"Red\", label=\"Standard deviation\")\n",
    "plt.axvline(set_uk[\"Cost_PM\"].mean()+set_uk['Cost_PM'].std(ddof = 0),color=\"Violet\", label=\"1 SD+ Mean\")\n",
    "plt.axvline(59, label=\"Subscription cost per month\",color=\"Orange\")\n",
    "plt.legend()\n",
    "plt.title(\"Cost per month for United Kingdom\")"
   ]
  },
  {
   "cell_type": "code",
   "execution_count": 37,
   "metadata": {
    "collapsed": false
   },
   "outputs": [
    {
     "data": {
      "text/plain": [
       "CountryLive\n",
       "Canada                      26.936975\n",
       "India                       21.433628\n",
       "United Kingdom              28.620939\n",
       "United States of America    29.360525\n",
       "Name: Age, dtype: float64"
      ]
     },
     "execution_count": 37,
     "metadata": {},
     "output_type": "execute_result"
    }
   ],
   "source": [
    "final_vals[\"Age\"]\n"
   ]
  },
  {
   "cell_type": "markdown",
   "metadata": {},
   "source": [
    "The density plots for the 4 countries confirm that most of partcipants in the survey falls inbetween the z-scores of 0 and 1. \n",
    "**The yellow line(subscription cost) on the graphs should ideally be to the right of the black line(mean)**\n",
    "\n",
    "*USA, Canada and India this is the case, thus proving that these 3 countries are good to invest in, meanwhile UK is not really a good option to invest in *\n",
    "- 33% of all the people who took the survey are interested in Mobile or web development, and 88% were interested in these courses within this list exclduing the people who selected NaN.\n",
    "- The company must invest the majority of its funds in USA \n",
    "- The company can invest equal and smaller proportions of funds in both India and Canada.\n",
    "- Observing the Age column, India has an average age of 21, while Canada has an average age of 26, so in the long term investing in youth seems like a better option.\n",
    "- From common knowledge considering the population and age I would probably suggest India, but would request help of the marketting team to invest some time to take a more informed decision. \n"
   ]
  }
 ],
 "metadata": {
  "kernelspec": {
   "display_name": "Python 3",
   "language": "python",
   "name": "python3"
  },
  "language_info": {
   "codemirror_mode": {
    "name": "ipython",
    "version": 3
   },
   "file_extension": ".py",
   "mimetype": "text/x-python",
   "name": "python",
   "nbconvert_exporter": "python",
   "pygments_lexer": "ipython3",
   "version": "3.4.3"
  }
 },
 "nbformat": 4,
 "nbformat_minor": 2
}
